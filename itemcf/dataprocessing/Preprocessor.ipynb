{
 "cells": [
  {
   "cell_type": "raw",
   "metadata": {},
   "source": [
    "# preparing input for computation of item collaborative filtering"
   ]
  },
  {
   "cell_type": "code",
   "execution_count": 3,
   "metadata": {},
   "outputs": [
    {
     "name": "stdout",
     "output_type": "stream",
     "text": [
      "                    捐赠方名称    基金会名称      捐赠金额（万）\n",
      "0           李家杰珍惜生命基金有限公司  爱佑慈善基金会  3999.185439\n",
      "1                      匿名  爱佑慈善基金会  1000.000000\n",
      "2          北京长策天成公关策划有限公司  爱佑慈善基金会  1000.000000\n",
      "3                     马化腾  爱佑慈善基金会   800.347953\n",
      "4  UBS OPTIMUS FOUNDATION  爱佑慈善基金会  4953.905137\n"
     ]
    }
   ],
   "source": [
    "import pandas as pd\n",
    "input = pd.read_csv('input.csv')\n",
    "print (input.head())"
   ]
  },
  {
   "cell_type": "code",
   "execution_count": 4,
   "metadata": {},
   "outputs": [],
   "source": [
    "array = pd.np.array(input)"
   ]
  },
  {
   "cell_type": "code",
   "execution_count": 5,
   "metadata": {},
   "outputs": [
    {
     "data": {
      "text/plain": [
       "(4817, 3)"
      ]
     },
     "execution_count": 5,
     "metadata": {},
     "output_type": "execute_result"
    }
   ],
   "source": [
    "array.shape"
   ]
  },
  {
   "cell_type": "code",
   "execution_count": 6,
   "metadata": {},
   "outputs": [
    {
     "name": "stdout",
     "output_type": "stream",
     "text": [
      "李家杰珍惜生命基金有限公司\n"
     ]
    }
   ],
   "source": [
    "print (array[0][0])"
   ]
  },
  {
   "cell_type": "code",
   "execution_count": 7,
   "metadata": {
    "collapsed": true
   },
   "outputs": [],
   "source": [
    "counter = 1;\n",
    "last = \"爱佑慈善基金会\"\n",
    "for i in range(array.shape[0]):\n",
    "    if (array[i][0] == \"匿名\"):\n",
    "        if (array[i][1] != last):\n",
    "            last = array[i][1]\n",
    "            counter += 1\n",
    "        array[i][0] += str(counter)"
   ]
  },
  {
   "cell_type": "code",
   "execution_count": 102,
   "metadata": {},
   "outputs": [
    {
     "name": "stdout",
     "output_type": "stream",
     "text": [
      "['福建欢乐天地置业有限责任公司' '清华大学教育基金会' 8500.0]\n"
     ]
    }
   ],
   "source": [
    "print(array[84])"
   ]
  },
  {
   "cell_type": "code",
   "execution_count": 10,
   "metadata": {
    "collapsed": true
   },
   "outputs": [],
   "source": [
    "file = open('input.txt', 'w') \n",
    "for i in range(array.shape[0]):\n",
    "    file.write(array[i][0].strip() + \",\" + array[i][1].strip() + \",\" + str(array[i][2]) + \"\\n\") \n",
    "file.close() "
   ]
  },
  {
   "cell_type": "code",
   "execution_count": 11,
   "metadata": {},
   "outputs": [
    {
     "name": "stdout",
     "output_type": "stream",
     "text": [
      "['北京市永源公益基金会,传媒大学教育基金会,210.0\\n', '新影微视（北京）文化传媒有限公司,传媒大学教育基金会,35.0\\n', '北京李先生加州牛肉面大王有限公司,传媒大学教育基金会,21.151999999999997\\n', '中国红十字基金会,传媒大学教育基金会,20.0\\n', '北京玖隆矿业投资基金管理有限公司,海仓慈善基金会,60.0\\n']\n"
     ]
    }
   ],
   "source": [
    "file = open('input.txt', 'r')\n",
    "print (file.readlines()[50:55])"
   ]
  },
  {
   "cell_type": "raw",
   "metadata": {},
   "source": [
    "# attempting to optimizing rating matrix"
   ]
  },
  {
   "cell_type": "code",
   "execution_count": 15,
   "metadata": {
    "collapsed": true
   },
   "outputs": [],
   "source": [
    "funder_set = set()\n",
    "funder_file = open('funder.txt', 'w') \n",
    "funder_counter = 1\n",
    "for i in range(array.shape[0]):\n",
    "    if array[i][0] not in funder_set:\n",
    "        funder_file.write(str(funder_counter) + \",\" + array[i][0].strip() + \"\\n\") \n",
    "        funder_set.add(array[i][0])\n",
    "        funder_counter += 1\n",
    "funder_file.close()"
   ]
  },
  {
   "cell_type": "code",
   "execution_count": 16,
   "metadata": {},
   "outputs": [
    {
     "data": {
      "text/plain": [
       "3483"
      ]
     },
     "execution_count": 16,
     "metadata": {},
     "output_type": "execute_result"
    }
   ],
   "source": [
    "funder_counter"
   ]
  },
  {
   "cell_type": "code",
   "execution_count": 17,
   "metadata": {
    "collapsed": true
   },
   "outputs": [],
   "source": [
    "foundation_set = set()\n",
    "funder_average = {}\n",
    "for i in range(array.shape[0]):\n",
    "    if array[i][0] not in funder_average:\n",
    "        funder_average[array[i][0]] = [0, 0]\n",
    "    funder_average[array[i][0]][0] += 1\n",
    "    funder_average[array[i][0]][1] += array[i][2]\n",
    "    if array[i][1] not in foundation_set:\n",
    "        foundation_set.add(array[i][1])"
   ]
  },
  {
   "cell_type": "code",
   "execution_count": 18,
   "metadata": {},
   "outputs": [
    {
     "data": {
      "text/plain": [
       "3482"
      ]
     },
     "execution_count": 18,
     "metadata": {},
     "output_type": "execute_result"
    }
   ],
   "source": [
    "len(list(funder_set))"
   ]
  },
  {
   "cell_type": "code",
   "execution_count": 19,
   "metadata": {},
   "outputs": [
    {
     "data": {
      "text/plain": [
       "575"
      ]
     },
     "execution_count": 19,
     "metadata": {},
     "output_type": "execute_result"
    }
   ],
   "source": [
    "len(list(foundation_set))"
   ]
  },
  {
   "cell_type": "code",
   "execution_count": 20,
   "metadata": {},
   "outputs": [
    {
     "data": {
      "text/plain": [
       "True"
      ]
     },
     "execution_count": 20,
     "metadata": {},
     "output_type": "execute_result"
    }
   ],
   "source": [
    "'王振滔慈善基金会' in foundation_set"
   ]
  },
  {
   "cell_type": "code",
   "execution_count": 21,
   "metadata": {},
   "outputs": [
    {
     "data": {
      "text/plain": [
       "[2, 550.0]"
      ]
     },
     "execution_count": 21,
     "metadata": {},
     "output_type": "execute_result"
    }
   ],
   "source": [
    "funder_average['重庆奥康置业有限公司']"
   ]
  },
  {
   "cell_type": "code",
   "execution_count": 22,
   "metadata": {
    "collapsed": true
   },
   "outputs": [],
   "source": [
    "for k, v in funder_average.items():\n",
    "    funder_average[k] = v[1] / v[0]"
   ]
  },
  {
   "cell_type": "code",
   "execution_count": 24,
   "metadata": {},
   "outputs": [
    {
     "data": {
      "text/plain": [
       "275.0"
      ]
     },
     "execution_count": 24,
     "metadata": {},
     "output_type": "execute_result"
    }
   ],
   "source": [
    "funder_average['重庆奥康置业有限公司']"
   ]
  },
  {
   "cell_type": "code",
   "execution_count": 25,
   "metadata": {},
   "outputs": [
    {
     "data": {
      "text/plain": [
       "True"
      ]
     },
     "execution_count": 25,
     "metadata": {},
     "output_type": "execute_result"
    }
   ],
   "source": [
    "my_set = foundation_set.copy()\n",
    "my_set.remove('王振滔慈善基金会')\n",
    "'王振滔慈善基金会' in foundation_set\n",
    "#'王振滔慈善基金会' in my_set"
   ]
  },
  {
   "cell_type": "code",
   "execution_count": 27,
   "metadata": {},
   "outputs": [],
   "source": [
    "funder_foundation = {} # key: funder, value: set(foundation-not-invested)\n",
    "for i in range(array.shape[0]):\n",
    "    if array[i][0] not in funder_foundation:\n",
    "        this_funder_set = foundation_set.copy()\n",
    "        funder_foundation[array[i][0]] = this_funder_set\n",
    "    if array[i][1] in funder_foundation[array[i][0]]:\n",
    "        funder_foundation[array[i][0]].remove(array[i][1]) "
   ]
  },
  {
   "cell_type": "code",
   "execution_count": 28,
   "metadata": {},
   "outputs": [
    {
     "data": {
      "text/plain": [
       "569"
      ]
     },
     "execution_count": 28,
     "metadata": {},
     "output_type": "execute_result"
    }
   ],
   "source": [
    "len(funder_foundation)\n",
    "len(funder_foundation['上海罗氏制药有限公司'])"
   ]
  },
  {
   "cell_type": "code",
   "execution_count": 191,
   "metadata": {
    "collapsed": true
   },
   "outputs": [],
   "source": [
    "processed_input_file = open('input.txt', 'a') \n",
    "for k, v in funder_foundation.items():\n",
    "    lst = list(v)\n",
    "    for i in range(len(lst)):\n",
    "        processed_input_file.write(k.strip() + \",\" + lst[i].strip() + \",\" + str(funder_average[k]) + \"\\n\") \n",
    "funder_file.close()"
   ]
  }
 ],
 "metadata": {
  "kernelspec": {
   "display_name": "Python 3",
   "language": "python",
   "name": "python3"
  },
  "language_info": {
   "codemirror_mode": {
    "name": "ipython",
    "version": 3
   },
   "file_extension": ".py",
   "mimetype": "text/x-python",
   "name": "python",
   "nbconvert_exporter": "python",
   "pygments_lexer": "ipython3",
   "version": "3.6.1"
  }
 },
 "nbformat": 4,
 "nbformat_minor": 2
}
